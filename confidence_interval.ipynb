{
 "cells": [
  {
   "cell_type": "code",
   "execution_count": 7,
   "metadata": {},
   "outputs": [],
   "source": [
    "import os\n",
    "import pandas as pd\n",
    "import math\n",
    "import sys\n",
    "import csv\n",
    "import chardet"
   ]
  },
  {
   "cell_type": "code",
   "execution_count": 8,
   "metadata": {},
   "outputs": [
    {
     "data": {
      "text/plain": [
       "\"def find_encoding(fname):\\n    r_file = open(fname, 'rb').read()\\n    result = chardet.detect(r_file)\\n    charenc = result['encoding']\\n    return charenc\""
      ]
     },
     "execution_count": 8,
     "metadata": {},
     "output_type": "execute_result"
    }
   ],
   "source": [
    "'''def find_encoding(fname):\n",
    "    r_file = open(fname, 'rb').read()\n",
    "    result = chardet.detect(r_file)\n",
    "    charenc = result['encoding']\n",
    "    return charenc'''"
   ]
  },
  {
   "cell_type": "code",
   "execution_count": 9,
   "metadata": {},
   "outputs": [],
   "source": [
    "def stderr(area_name,s1,s2,n):\n",
    "    t_value={\"Middle\":2.021,\n",
    "             \"South\":2.000,\n",
    "             \"North\":1.987\n",
    "            }\n",
    "    tmp=(math.pow(s1,2)+math.pow(s2,2))/n\n",
    "    error=t_value[area_name]*math.sqrt(tmp)\n",
    "    return error\n",
    "        "
   ]
  },
  {
   "cell_type": "code",
   "execution_count": 10,
   "metadata": {},
   "outputs": [],
   "source": [
    "def standard_deviation(data,sample_mean,n):\n",
    "    D=0.0\n",
    "    for index in range(n):\n",
    "        D+=math.pow(data[index]-sample_mean,2)\n",
    "    s=math.sqrt(D/(n-1))\n",
    "    return s\n",
    "        "
   ]
  },
  {
   "cell_type": "code",
   "execution_count": 11,
   "metadata": {},
   "outputs": [],
   "source": [
    "def processing(area_dir,area_name):\n",
    "    station_file=os.listdir(area_dir)\n",
    "    print(area_name)\n",
    "    area_summer=[]\n",
    "    area_winter=[]\n",
    "    for station in station_file:\n",
    "        if(station[0]=='.'):\n",
    "            continue\n",
    "        summer=0.0\n",
    "        winter=0.0\n",
    "        #print(station)\n",
    "        station_path=os.path.join(area_dir,station)\n",
    "        #my_encoding = find_encoding(station_path)\n",
    "        df=pd.read_csv(station_path)\n",
    "        PM25=df.loc[1,:]\n",
    "        for index in range(6,12):\n",
    "            summer+=PM25[index]\n",
    "        for index in range(1,6):\n",
    "            winter+=PM25[index]\n",
    "        winter+=PM25[12]\n",
    "        #print(\"summer:\",summer)\n",
    "        #print(\"winter:\",winter)\n",
    "        area_summer.append(summer/6)\n",
    "        area_winter.append(winter/6)\n",
    "    #print(\"area_summer:\",area_summer)\n",
    "    #print(\"area_winter:\",area_winter)\n",
    "    n1=len(area_summer)\n",
    "    df=n1-1\n",
    "    print(\"n1=\",n1,\",df=\",df)\n",
    "    summer_total=0.0\n",
    "    winter_total=0.0\n",
    "    for index in range(n1):\n",
    "        summer_total+=area_summer[index]\n",
    "        winter_total+=area_winter[index]\n",
    "    mean1=summer_total/n1\n",
    "    mean2=winter_total/n1\n",
    "    s1=standard_deviation(area_summer,mean1,n1)\n",
    "    s2=standard_deviation(area_winter,mean2,n1)\n",
    "    print(\"sample mean1=\",mean1,\"sample mean2=\",mean2)\n",
    "    print(\"s1=\",s1,\"s2=\",s2)\n",
    "    error=stderr(area_name,s1,s2,n1)\n",
    "    low=mean1-mean2-error\n",
    "    up=mean1-mean2+error\n",
    "    print(\"confidence interval=\",low,\"<mean1-mean2<\",up)\n",
    "    if(low*up>0):\n",
    "        print(\"The two means have obvious difference\")\n",
    "    else:\n",
    "        print(\"The two means have no difference\")\n",
    "    print('\\n')"
   ]
  },
  {
   "cell_type": "code",
   "execution_count": 12,
   "metadata": {},
   "outputs": [
    {
     "name": "stdout",
     "output_type": "stream",
     "text": [
      "Middle\n",
      "n1= 41 ,df= 40\n",
      "sample mean1= 32.25620340461373 sample mean2= 43.18965499316053\n",
      "s1= 11.034982294553 s2= 9.640668056897642\n",
      "confidence interval= -15.558367847023023 <mean1-mean2< -6.3085353300705815\n",
      "The two means have obvious difference\n",
      "\n",
      "\n",
      "South\n",
      "n1= 62 ,df= 61\n",
      "sample mean1= 37.97579852101285 sample mean2= 52.137954031313114\n",
      "s1= 37.63011377146997 s2= 24.66320238716182\n",
      "confidence interval= -25.59018843008721 <mean1-mean2< -2.734122590513323\n",
      "The two means have obvious difference\n",
      "\n",
      "\n",
      "North\n",
      "n1= 91 ,df= 90\n",
      "sample mean1= 26.167372520464802 sample mean2= 34.02782688229627\n",
      "s1= 18.57215754872545 s2= 7.8331353101662105\n",
      "confidence interval= -12.058928865943898 <mean1-mean2< -3.6619798577190323\n",
      "The two means have obvious difference\n",
      "\n",
      "\n"
     ]
    }
   ],
   "source": [
    "if __name__ == '__main__':\n",
    "\n",
    "    main_directory=\"./month_avg_2\"\n",
    "    area_file=os.listdir(main_directory)\n",
    "\n",
    "    for area in area_file:\n",
    "        area_path=os.path.join(main_directory,area)\n",
    "        yn=1\n",
    "        if(area=='Other'or area=='East'):\n",
    "            yn=0\n",
    "        if(yn):\n",
    "            processing(area_path,area)"
   ]
  },
  {
   "cell_type": "code",
   "execution_count": null,
   "metadata": {},
   "outputs": [],
   "source": []
  },
  {
   "cell_type": "code",
   "execution_count": null,
   "metadata": {},
   "outputs": [],
   "source": []
  }
 ],
 "metadata": {
  "kernelspec": {
   "display_name": "Python 3",
   "language": "python",
   "name": "python3"
  },
  "language_info": {
   "codemirror_mode": {
    "name": "ipython",
    "version": 3
   },
   "file_extension": ".py",
   "mimetype": "text/x-python",
   "name": "python",
   "nbconvert_exporter": "python",
   "pygments_lexer": "ipython3",
   "version": "3.6.4"
  }
 },
 "nbformat": 4,
 "nbformat_minor": 2
}
