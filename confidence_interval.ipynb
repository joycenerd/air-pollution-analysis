{
 "cells": [
  {
   "cell_type": "code",
   "execution_count": 127,
   "metadata": {},
   "outputs": [],
   "source": [
    "import os\n",
    "import pandas as pd\n",
    "import math"
   ]
  },
  {
   "cell_type": "code",
   "execution_count": 136,
   "metadata": {},
   "outputs": [],
   "source": [
    "def stderr(area_name,s1,s2,n):\n",
    "    t_value={\"Middle\":2.021,\n",
    "             \"South\":2.000,\n",
    "             \"North\":1.990\n",
    "            }\n",
    "    tmp=(math.pow(s1,2)+math.pow(s2,2))/n\n",
    "    error=t_value[area_name]*math.sqrt(tmp)\n",
    "    return error\n",
    "        "
   ]
  },
  {
   "cell_type": "code",
   "execution_count": 137,
   "metadata": {},
   "outputs": [],
   "source": [
    "def standard_deviation(data,sample_mean,n):\n",
    "    D=0.0\n",
    "    for index in range(n):\n",
    "        D+=math.pow(data[index]-sample_mean,2)\n",
    "    s=math.sqrt(D/(n-1))\n",
    "    return s\n",
    "        "
   ]
  },
  {
   "cell_type": "code",
   "execution_count": 150,
   "metadata": {},
   "outputs": [],
   "source": [
    "def processing(area_dir,area_name):\n",
    "    station_file=os.listdir(area_dir)\n",
    "    print(area_name)\n",
    "    area_summer=[]\n",
    "    area_winter=[]\n",
    "    for station in station_file:\n",
    "        if(station[0]=='.'):\n",
    "            continue\n",
    "        summer=0.0\n",
    "        winter=0.0\n",
    "        #print(station)\n",
    "        station_path=os.path.join(area_dir,station)\n",
    "        df=pd.read_csv(station_path)\n",
    "        PM25=df.loc[1,:]\n",
    "        for index in range(6,12):\n",
    "            summer+=PM25[index]\n",
    "        for index in range(1,6):\n",
    "            winter+=PM25[index]\n",
    "        winter+=PM25[12]\n",
    "        #print(\"summer:\",summer)\n",
    "        #print(\"winter:\",winter)\n",
    "        area_summer.append(summer/6)\n",
    "        area_winter.append(winter/6)\n",
    "    #print(\"area_summer:\",area_summer)\n",
    "    #print(\"area_winter:\",area_winter)\n",
    "    n1=len(area_summer)\n",
    "    df=n1-1\n",
    "    print(\"n1=\",n1,\",df=\",df)\n",
    "    summer_total=0.0\n",
    "    winter_total=0.0\n",
    "    for index in range(n1):\n",
    "        summer_total+=area_summer[index]\n",
    "        winter_total+=area_winter[index]\n",
    "    mean1=summer_total/n1\n",
    "    mean2=winter_total/n1\n",
    "    s1=standard_deviation(area_summer,mean1,n1)\n",
    "    s2=standard_deviation(area_winter,mean2,n1)\n",
    "    print(\"sample mean1=\",mean1,\"sample mean2=\",mean2)\n",
    "    print(\"s1=\",s1,\"s2=\",s2)\n",
    "    error=stderr(area_name,s1,s2,n1)\n",
    "    low=mean1-mean2-error\n",
    "    up=mean1-mean2+error\n",
    "    print(\"confidence interval=\",low,\"<mean1-mean2<\",up)\n",
    "    if(low*up>0):\n",
    "        print(\"The two means have obvious difference\")\n",
    "    else:\n",
    "        print(\"The two means have no difference\")\n",
    "    print('\\n')"
   ]
  },
  {
   "cell_type": "code",
   "execution_count": 151,
   "metadata": {},
   "outputs": [
    {
     "name": "stdout",
     "output_type": "stream",
     "text": [
      "Middle\n",
      "n1= 44 ,df= 43\n",
      "sample mean1= 31.632679329522283 sample mean2= 42.057639778792186\n",
      "s1= 11.397842350044172 s2= 9.392960168898767\n",
      "confidence interval= -14.92489448385918 <mean1-mean2< -5.925026414680626\n",
      "The two means has obvious difference\n",
      "\n",
      "\n",
      "South\n",
      "n1= 65 ,df= 64\n",
      "sample mean1= 37.54593271677234 sample mean2= 50.691894314964664\n",
      "s1= 36.990946650130724 s2= 23.712359339565047\n",
      "confidence interval= -24.045802442539124 <mean1-mean2< -2.2461207538455206\n",
      "The two means has obvious difference\n",
      "\n",
      "\n",
      "North\n",
      "n1= 84 ,df= 83\n",
      "sample mean1= 26.413206170821685 sample mean2= 33.26473223610377\n",
      "s1= 19.795274177644238 s2= 8.831287336215297\n",
      "confidence interval= -11.557944260217344 <mean1-mean2< -2.1451078703468243\n",
      "The two means has obvious difference\n",
      "\n",
      "\n"
     ]
    }
   ],
   "source": [
    "if __name__ == '__main__':\n",
    "\n",
    "    main_directory=\"./month_avg\"\n",
    "    area_file=os.listdir(main_directory)\n",
    "\n",
    "    for area in area_file:\n",
    "        area_path=os.path.join(main_directory,area)\n",
    "        yn=1\n",
    "        if(area=='Other'or area=='East'):\n",
    "            yn=0\n",
    "        if(yn):\n",
    "            processing(area_path,area)"
   ]
  },
  {
   "cell_type": "code",
   "execution_count": null,
   "metadata": {},
   "outputs": [],
   "source": []
  },
  {
   "cell_type": "code",
   "execution_count": null,
   "metadata": {},
   "outputs": [],
   "source": []
  }
 ],
 "metadata": {
  "kernelspec": {
   "display_name": "Python 3",
   "language": "python",
   "name": "python3"
  },
  "language_info": {
   "codemirror_mode": {
    "name": "ipython",
    "version": 3
   },
   "file_extension": ".py",
   "mimetype": "text/x-python",
   "name": "python",
   "nbconvert_exporter": "python",
   "pygments_lexer": "ipython3",
   "version": "3.6.4"
  }
 },
 "nbformat": 4,
 "nbformat_minor": 2
}
