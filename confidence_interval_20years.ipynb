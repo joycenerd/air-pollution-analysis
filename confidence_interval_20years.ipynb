{
 "cells": [
  {
   "cell_type": "code",
   "execution_count": 29,
   "metadata": {},
   "outputs": [],
   "source": [
    "import os\n",
    "import pandas as pd\n",
    "import math\n",
    "import sys\n",
    "import csv"
   ]
  },
  {
   "cell_type": "code",
   "execution_count": 30,
   "metadata": {},
   "outputs": [],
   "source": [
    "def stderr(area_name,s1,s2,n1,n2):\n",
    "    t_value={\"Middle\":2.262,\n",
    "             \"South\":2.120,\n",
    "             \"North\":2.086\n",
    "            }\n",
    "    tmp = math.pow(s1,2) / n1 + math.pow(s2,2) / n2\n",
    "    error = t_value[area_name] * math.sqrt(tmp)\n",
    "    return error"
   ]
  },
  {
   "cell_type": "code",
   "execution_count": 31,
   "metadata": {},
   "outputs": [],
   "source": [
    "def standard_deviation(data,sample_mean,n):\n",
    "    D=0.0\n",
    "    for index in range(n):\n",
    "        D+=math.pow(data[index]-sample_mean,2)\n",
    "    s=math.sqrt(D/(n-1))\n",
    "    return s"
   ]
  },
  {
   "cell_type": "code",
   "execution_count": 36,
   "metadata": {},
   "outputs": [],
   "source": [
    "def processing(area_dir,area_name):\n",
    "    #print(area_dir)\n",
    "    print(area_name)\n",
    "    time_file=os.listdir(area_dir)\n",
    "    recent=[]\n",
    "    past=[]\n",
    "    for time in time_file:\n",
    "        time_path=os.path.join(area_dir,time)\n",
    "        station_file=os.listdir(time_path)\n",
    "        for station in station_file:\n",
    "            station_path=os.path.join(time_path,station)\n",
    "            df=pd.read_csv(station_path)\n",
    "            if time==\"new\":\n",
    "                PM10=df.loc[2,:]\n",
    "            elif time == \"old\":\n",
    "                PM10=df.loc[1,:]\n",
    "            month_total = 0.0\n",
    "            for index in range(1,13):\n",
    "                month_total += PM10[index]\n",
    "            if(time==\"new\"):\n",
    "                recent.append(month_total/12)\n",
    "            elif time == \"old\":\n",
    "                past.append(month_total/12)\n",
    "    n1=len(recent)\n",
    "    total_recent=0.0\n",
    "    for index in range(n1):\n",
    "        total_recent += recent[index]\n",
    "    mean_recent=total_recent/n1\n",
    "    n2=len(past)\n",
    "    total_past=0.0\n",
    "    for index in range(n2):\n",
    "        total_past += past[index]\n",
    "    mean_past =  total_past / n2\n",
    "    s_recent = standard_deviation(recent,mean_recent,n1)\n",
    "    s_past = standard_deviation(past,mean_past,n2)\n",
    "    print(\"n1 = \",n1, \"n2 = \", n2)\n",
    "    print(\"sample mean1 = \", mean_recent, \"sample mean2 = \", mean_past)\n",
    "    print(\"s1 = \", s_recent, \"s2 = \", s_past)\n",
    "    df = min(n1,n2) - 1\n",
    "    print(\"df = \", df)\n",
    "    error = stderr(area_name, s_recent, s_past, n1, n2)\n",
    "    low = mean_recent - mean_past - error\n",
    "    up = mean_recent - mean_past + error\n",
    "    print(\"confidence interval = \", low, \"< mean1 - mean2 < \",up)\n",
    "    if(low * up > 0):\n",
    "        print(\"There is obvious difference between 20 years ago and now\")\n",
    "    else:\n",
    "        print(\"There isn't obvious difference between 20 years and now\")\n",
    "    print(\"\\n\")\n",
    "    "
   ]
  },
  {
   "cell_type": "code",
   "execution_count": 37,
   "metadata": {},
   "outputs": [
    {
     "name": "stdout",
     "output_type": "stream",
     "text": [
      "Middle\n",
      "n1 =  44 n2 =  10\n",
      "sample mean1 =  66.32936844802624 sample mean2 =  178.05042696412235\n",
      "s1 =  20.20062589370353 s2 =  23.791655659712042\n",
      "df =  9\n",
      "confidence interval =  -130.0807106487377 < mean1 - mean2 <  -93.36140638345451\n",
      "There is obvious difference between 20 years ago and now\n",
      "\n",
      "\n",
      "South\n",
      "n1 =  65 n2 =  16\n",
      "sample mean1 =  77.90876713269661 sample mean2 =  160.53811324005\n",
      "s1 =  26.256016576839144 s2 =  30.178930476925107\n",
      "df =  15\n",
      "confidence interval =  -100.05064032895768 < mean1 - mean2 <  -65.20805188574909\n",
      "There is obvious difference between 20 years ago and now\n",
      "\n",
      "\n",
      "North\n",
      "n1 =  44 n2 =  20\n",
      "sample mean1 =  66.32936844802624 sample mean2 =  169.5016739541664\n",
      "s1 =  20.20062589370353 s2 =  42.08433990485333\n",
      "df =  19\n",
      "confidence interval =  -123.8046060148253 < mean1 - mean2 <  -82.540004997455\n",
      "There is obvious difference between 20 years ago and now\n",
      "\n",
      "\n"
     ]
    }
   ],
   "source": [
    "if __name__ == '__main__':\n",
    "\n",
    "    main_directory=\"./avg\"\n",
    "    area_file=os.listdir(main_directory)\n",
    "    \n",
    "    for area in area_file:\n",
    "        area_path=os.path.join(main_directory,area)\n",
    "        processing(area_path,area)"
   ]
  },
  {
   "cell_type": "code",
   "execution_count": null,
   "metadata": {},
   "outputs": [],
   "source": []
  }
 ],
 "metadata": {
  "kernelspec": {
   "display_name": "Python 3",
   "language": "python",
   "name": "python3"
  },
  "language_info": {
   "codemirror_mode": {
    "name": "ipython",
    "version": 3
   },
   "file_extension": ".py",
   "mimetype": "text/x-python",
   "name": "python",
   "nbconvert_exporter": "python",
   "pygments_lexer": "ipython3",
   "version": "3.6.4"
  }
 },
 "nbformat": 4,
 "nbformat_minor": 2
}
